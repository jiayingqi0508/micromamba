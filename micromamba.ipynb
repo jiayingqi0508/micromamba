{
 "cells": [
  {
   "cell_type": "markdown",
   "id": "9ddc8723-8e94-4c2c-b351-b7cdaf3feeb8",
   "metadata": {},
   "source": [
    "# 如何在powershell中安装micromamba"
   ]
  },
  {
   "cell_type": "code",
   "execution_count": 2,
   "id": "8bc90c44-2e6c-4852-b1ce-bab4202a7a7d",
   "metadata": {},
   "outputs": [],
   "source": [
    "# 安装教程来自micromamba官网\n",
    "# 网址：https://mamba.readthedocs.io/en/latest/installation/micromamba-installation.html"
   ]
  },
  {
   "cell_type": "code",
   "execution_count": null,
   "id": "1eb8e07f-f32f-4456-9762-44f4592a2f79",
   "metadata": {},
   "outputs": [],
   "source": [
    "# window安装官方代码\n",
    "Invoke-Webrequest -URI https://micro.mamba.pm/api/micromamba/win-64/latest -OutFile micromamba.tar.bz2\n",
    "tar xf micromamba.tar.bz2\n",
    "\n",
    "MOVE -Force Library\\bin\\micromamba.exe micromamba.exe\n",
    ".\\micromamba.exe --help\n",
    "\n",
    "# You can use e.g. $HOME\\micromambaenv as your base prefix\n",
    "$Env:MAMBA_ROOT_PREFIX=\"C:\\Your\\Root\\Prefix\"\n",
    "\n",
    "# Invoke the hook\n",
    ".\\micromamba.exe shell hook -s powershell | Out-String | Invoke-Expression\n",
    "\n",
    "# ... or initialize the shell\n",
    ".\\micromamba.exe shell init -s powershell -r C:\\Your\\Root\\Prefix\n",
    "# and use micromamba directly\n",
    "micromamba create -f ./test/env_win.yaml -y\n",
    "micromamba activate yourenv"
   ]
  },
  {
   "cell_type": "code",
   "execution_count": null,
   "id": "63591c7b-5265-4c4f-bf30-5e008d66ce7d",
   "metadata": {},
   "outputs": [],
   "source": [
    "# 分步解析\n",
    "# 以下代码均在windows powershell或cmd中运行\n",
    "# 1.下载 Micromamba 安装包：\n",
    "Invoke-WebRequest -URI https://micro.mamba.pm/api/micromamba/win-64/latest -OutFile micromamba.tar.bz2"
   ]
  },
  {
   "cell_type": "code",
   "execution_count": null,
   "id": "02f4fa95-768b-4cce-b0eb-3f42232953c1",
   "metadata": {},
   "outputs": [],
   "source": [
    "# 2.解压安装包：\n",
    "tar xf micromamba.tar.bz2"
   ]
  },
  {
   "cell_type": "code",
   "execution_count": null,
   "id": "1d80118d-4f1c-4b32-871a-873f210b99dc",
   "metadata": {},
   "outputs": [],
   "source": [
    "# 3.移动 micromamba.exe 文件到当前目录：\n",
    "MOVE -Force Library\\bin\\micromamba.exe micromamba.exe"
   ]
  },
  {
   "cell_type": "code",
   "execution_count": null,
   "id": "8b50a043-3fb3-410e-94a4-6373acc2c62b",
   "metadata": {},
   "outputs": [],
   "source": [
    "# 4.验证安装：\n",
    ".\\micromamba.exe --help"
   ]
  },
  {
   "cell_type": "code",
   "execution_count": null,
   "id": "dcc5a483-8ed5-4fbd-96d6-a98fbced2588",
   "metadata": {},
   "outputs": [],
   "source": [
    "# 5.设置 MAMBA_ROOT_PREFIX 环境变量：\n",
    "$Env:MAMBA_ROOT_PREFIX=\"C:\\Your\\Root\\Prefix\" \n",
    "# 设置 MAMBA_ROOT_PREFIX 环境变量，用来指定 Micromamba 的根目录。C:\\Your\\Root\\Prefix 可以替换为你想要的目录路径，例如 C:\\micromamba。"
   ]
  },
  {
   "cell_type": "code",
   "execution_count": null,
   "id": "af2f5ae1-b582-46f9-aafc-50e3153e1b64",
   "metadata": {},
   "outputs": [],
   "source": [
    "# 6.初始化 PowerShell 环境\n",
    ".\\micromamba.exe shell init -s powershell -r C:\\Your\\Root\\Prefix"
   ]
  },
  {
   "cell_type": "code",
   "execution_count": null,
   "id": "a6eab518-63d0-4c99-8af5-072d5aca533a",
   "metadata": {},
   "outputs": [],
   "source": [
    "# 7.创建虚拟环境：\n",
    "micromamba create -n myenv python=3.8 -y\n",
    "# myenv为环境名，可以自己更改 python版本也可以自定义"
   ]
  },
  {
   "cell_type": "code",
   "execution_count": null,
   "id": "15e05404-2b57-4cd2-a415-c51b2f0d2feb",
   "metadata": {},
   "outputs": [],
   "source": [
    "# 8.激活环境\n",
    "micromamba activate myenv"
   ]
  },
  {
   "cell_type": "code",
   "execution_count": null,
   "id": "3fd7c8ac-71d1-43bc-b373-6d1ffd166be8",
   "metadata": {},
   "outputs": [],
   "source": [
    "# 9.安装pytorch（GPU版本）\n",
    "micromamba install pytorch torchvision torchaudio pytorch-cuda=11.8 -c pytorch -c nvidia\n",
    "# 注意：这里的版本只是示意具体安装什么版本的pytorch要根据自己电脑的显卡以及驱动确定，我的显卡是rtx2060，cuda version 为 12.7.\n",
    "# 具体版本选择大家可以去b站看up主小土堆的安装教程"
   ]
  },
  {
   "cell_type": "code",
   "execution_count": null,
   "id": "36c6b824-cef1-4aa4-a855-7ba7aa9fe42e",
   "metadata": {},
   "outputs": [],
   "source": [
    "# 10.验证安装\n",
    "python -c \"import torch; print(torch.__version__); print(torch.cuda.is_available())\"\n",
    "# torch.__version__ 将输出 PyTorch 的版本。\n",
    "# torch.cuda.is_available() 将返回 True 或 False，表示是否检测到 CUDA 支持。"
   ]
  }
 ],
 "metadata": {
  "kernelspec": {
   "display_name": "Python 3 (ipykernel)",
   "language": "python",
   "name": "python3"
  },
  "language_info": {
   "codemirror_mode": {
    "name": "ipython",
    "version": 3
   },
   "file_extension": ".py",
   "mimetype": "text/x-python",
   "name": "python",
   "nbconvert_exporter": "python",
   "pygments_lexer": "ipython3",
   "version": "3.8.20"
  }
 },
 "nbformat": 4,
 "nbformat_minor": 5
}
